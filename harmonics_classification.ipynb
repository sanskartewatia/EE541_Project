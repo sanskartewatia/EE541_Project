{
 "cells": [
  {
   "cell_type": "code",
   "execution_count": 3,
   "id": "edd5dded-2282-4547-8a13-90159aeebd60",
   "metadata": {},
   "outputs": [],
   "source": [
    "import os\n",
    "import librosa\n",
    "import numpy as np\n",
    "from sklearn.metrics import classification_report, confusion_matrix\n",
    "from sklearn.model_selection import train_test_split\n",
    "import matplotlib.pyplot as plt\n",
    "from scipy.fft import fft, fftfreq\n",
    "from scipy.signal import spectrogram, find_peaks\n",
    "from scipy.io import wavfile\n",
    "import pandas as pd\n",
    "import torch.nn as nn\n",
    "import torch\n",
    "import copy\n",
    "import numpy as np\n",
    "import torch.optim as optim\n",
    "import tqdm"
   ]
  },
  {
   "cell_type": "code",
   "execution_count": 16,
   "id": "23296500-2813-447e-9825-e0d542456839",
   "metadata": {},
   "outputs": [],
   "source": [
    "class Deep(nn.Module):\n",
    "    def __init__(self):\n",
    "        super().__init__()\n",
    "        self.layer1 = nn.Linear(14, 128)\n",
    "        self.act1 = nn.ReLU()\n",
    "        self.layer2 = nn.Linear(128, 32)\n",
    "        self.act2 = nn.ReLU()\n",
    "        self.output = nn.Linear(32, 1)\n",
    "        self.sigmoid = nn.Sigmoid()\n",
    "        self.dropout = nn.Dropout(0.2)\n",
    "        \n",
    "\n",
    "    def forward(self, x):\n",
    "        x = self.act1(self.layer1(x))\n",
    "        x = self.act2(self.layer2(x))\n",
    "        x = self.dropout(x)\n",
    "        x = self.sigmoid(self.output(x))\n",
    "        return x"
   ]
  },
  {
   "cell_type": "code",
   "execution_count": 4,
   "id": "dbd969b8-58fb-4ca1-9911-c47b8e6eabbb",
   "metadata": {},
   "outputs": [],
   "source": [
    "df=pd.read_csv('dataframe.csv')"
   ]
  },
  {
   "cell_type": "code",
   "execution_count": 5,
   "id": "7295c8bc-92cd-4e1a-8f6f-1387b825a096",
   "metadata": {},
   "outputs": [],
   "source": [
    "columns2 = ['Min','Max','Harmonic number 1',\n",
    "       'Harmonic number 2', 'Harmonic number 3', 'Harmonic number 4',\n",
    "       'Harmonic number 5', 'Harmonic number 6', 'Harmonic number 7',\n",
    "       'Harmonic number 8','Int 1','Int 2','Int 3','Int 4']\n",
    "dftr=df[columns2].to_numpy()\n",
    "dftry=df[\"Output\"].to_numpy()"
   ]
  },
  {
   "cell_type": "code",
   "execution_count": 19,
   "id": "c666be10-5b86-46cf-b645-5ec3228c8cfa",
   "metadata": {},
   "outputs": [],
   "source": [
    "def model_train(model, X_train, y_train, X_val, y_val):\n",
    "    # loss function and optimizer\n",
    "    loss_fn = nn.BCELoss()  # binary cross entropy\n",
    "    optimizer = optim.Adam(model.parameters(), lr=0.0001)\n",
    "\n",
    "    n_epochs = 200   # number of epochs to run\n",
    "    batch_size = 5  # size of each batch\n",
    "    batch_start = torch.arange(0, len(X_train), batch_size)\n",
    "\n",
    "    # Hold the best model\n",
    "    best_acc = - np.inf   # init to negative infinity\n",
    "    best_weights = None\n",
    "\n",
    "    for epoch in range(n_epochs):\n",
    "        model.train()\n",
    "        with tqdm.tqdm(batch_start, unit=\"batch\", mininterval=0, disable=True) as bar:\n",
    "            bar.set_description(f\"Epoch {epoch}\")\n",
    "            for start in bar:\n",
    "                # take a batch\n",
    "                X_batch = X_train[start:start+batch_size]\n",
    "                y_batch = y_train[start:start+batch_size]\n",
    "                # forward pass\n",
    "                y_pred = model(X_batch)\n",
    "                loss = loss_fn(y_pred, y_batch)\n",
    "                # backward pass\n",
    "                optimizer.zero_grad()\n",
    "                loss.backward()\n",
    "                # update weights\n",
    "                optimizer.step()\n",
    "                # print progress\n",
    "                acc = (y_pred.round() == y_batch).float().mean()\n",
    "                bar.set_postfix(\n",
    "                    loss=float(loss),\n",
    "                    acc=float(acc)\n",
    "                )\n",
    "        # evaluate accuracy at end of each epoch\n",
    "        model.eval()\n",
    "        y_pred = model(X_val)\n",
    "        acc = (y_pred.round() == y_val).float().mean()\n",
    "        acc = float(acc)\n",
    "        if acc > best_acc:\n",
    "            best_acc = acc\n",
    "            best_weights = copy.deepcopy(model.state_dict())\n",
    "    # restore model and return best accuracy\n",
    "    model.load_state_dict(best_weights)\n",
    "    return best_acc"
   ]
  },
  {
   "cell_type": "code",
   "execution_count": 20,
   "id": "706112c4-7b80-4bbc-a8d1-dc559a05633f",
   "metadata": {},
   "outputs": [],
   "source": [
    "xdf = torch.tensor(dftr, dtype=torch.float32)\n",
    "ydf = torch.tensor(dftry, dtype=torch.float32).reshape(-1, 1)"
   ]
  },
  {
   "cell_type": "code",
   "execution_count": 30,
   "id": "ed439e40-e647-4558-9898-488956375e13",
   "metadata": {},
   "outputs": [],
   "source": [
    "from sklearn.model_selection import StratifiedKFold, train_test_split\n",
    "X_train, X_test, y_train, y_test = train_test_split(xdf, ydf, train_size=0.85, shuffle=True)"
   ]
  },
  {
   "cell_type": "code",
   "execution_count": 27,
   "id": "395b677f-8cad-4760-a7c8-4fd2d16067fc",
   "metadata": {},
   "outputs": [],
   "source": [
    "# define 2-fold cross validation test harness\n",
    "kfold = StratifiedKFold(n_splits=2, shuffle=True)\n",
    "cv_scores_wide = []\n",
    "for train, test in kfold.split(X_train, y_train):\n",
    "    # create model, train, and get accuracy\n",
    "    model = Deep()\n",
    "    acc = model_train(model, X_train[train], y_train[train], X_train[test], y_train[test])\n",
    "    #print(\"Accuracy (wide): %.2f\" % acc)\n",
    "    cv_scores_wide.append(acc)"
   ]
  },
  {
   "cell_type": "code",
   "execution_count": 31,
   "id": "5ac6b81f-0c91-448c-8ca7-55da0bcd2c99",
   "metadata": {},
   "outputs": [
    {
     "name": "stdout",
     "output_type": "stream",
     "text": [
      "Accuracy: 63.01% (+/- 1.10%)\n"
     ]
    }
   ],
   "source": [
    "print(\"Accuracy: %.2f%% (+/- %.2f%%)\" % (np.mean(cv_scores_wide)*100, np.std(cv_scores_wide)*100))"
   ]
  },
  {
   "cell_type": "code",
   "execution_count": 11,
   "id": "9fd1672b-fcac-49c0-95a0-909e17cefad2",
   "metadata": {},
   "outputs": [
    {
     "name": "stdout",
     "output_type": "stream",
     "text": [
      "=================================================================\n",
      "Layer (type:depth-idx)                   Param #\n",
      "=================================================================\n",
      "├─Linear: 1-1                            1,920\n",
      "├─ReLU: 1-2                              --\n",
      "├─Linear: 1-3                            4,128\n",
      "├─ReLU: 1-4                              --\n",
      "├─Linear: 1-5                            33\n",
      "├─Sigmoid: 1-6                           --\n",
      "├─Dropout: 1-7                           --\n",
      "=================================================================\n",
      "Total params: 6,081\n",
      "Trainable params: 6,081\n",
      "Non-trainable params: 0\n",
      "=================================================================\n"
     ]
    },
    {
     "data": {
      "text/plain": [
       "=================================================================\n",
       "Layer (type:depth-idx)                   Param #\n",
       "=================================================================\n",
       "├─Linear: 1-1                            1,920\n",
       "├─ReLU: 1-2                              --\n",
       "├─Linear: 1-3                            4,128\n",
       "├─ReLU: 1-4                              --\n",
       "├─Linear: 1-5                            33\n",
       "├─Sigmoid: 1-6                           --\n",
       "├─Dropout: 1-7                           --\n",
       "=================================================================\n",
       "Total params: 6,081\n",
       "Trainable params: 6,081\n",
       "Non-trainable params: 0\n",
       "================================================================="
      ]
     },
     "execution_count": 11,
     "metadata": {},
     "output_type": "execute_result"
    }
   ],
   "source": [
    "from torchsummary import summary\n",
    "\n",
    "summary(model)"
   ]
  },
  {
   "cell_type": "code",
   "execution_count": 12,
   "id": "9688b139-9af1-4983-922f-f30d4aac4241",
   "metadata": {},
   "outputs": [
    {
     "data": {
      "text/plain": [
       "Deep(\n",
       "  (layer1): Linear(in_features=14, out_features=128, bias=True)\n",
       "  (act1): ReLU()\n",
       "  (layer2): Linear(in_features=128, out_features=32, bias=True)\n",
       "  (act2): ReLU()\n",
       "  (output): Linear(in_features=32, out_features=1, bias=True)\n",
       "  (sigmoid): Sigmoid()\n",
       "  (dropout): Dropout(p=0.2, inplace=False)\n",
       ")"
      ]
     },
     "execution_count": 12,
     "metadata": {},
     "output_type": "execute_result"
    }
   ],
   "source": [
    "model"
   ]
  },
  {
   "cell_type": "code",
   "execution_count": 6,
   "id": "ba3d7d01-d091-440f-8543-a70c9ee720fd",
   "metadata": {},
   "outputs": [
    {
     "data": {
      "text/html": [
       "<div>\n",
       "<style scoped>\n",
       "    .dataframe tbody tr th:only-of-type {\n",
       "        vertical-align: middle;\n",
       "    }\n",
       "\n",
       "    .dataframe tbody tr th {\n",
       "        vertical-align: top;\n",
       "    }\n",
       "\n",
       "    .dataframe thead th {\n",
       "        text-align: right;\n",
       "    }\n",
       "</style>\n",
       "<table border=\"1\" class=\"dataframe\">\n",
       "  <thead>\n",
       "    <tr style=\"text-align: right;\">\n",
       "      <th></th>\n",
       "      <th>Min</th>\n",
       "      <th>Max</th>\n",
       "      <th>Harmonic number 1</th>\n",
       "      <th>Harmonic number 2</th>\n",
       "      <th>Harmonic number 3</th>\n",
       "      <th>Harmonic number 4</th>\n",
       "      <th>Harmonic number 5</th>\n",
       "      <th>Harmonic number 6</th>\n",
       "      <th>Harmonic number 7</th>\n",
       "      <th>Harmonic number 8</th>\n",
       "      <th>Int 1</th>\n",
       "      <th>Int 2</th>\n",
       "      <th>Int 3</th>\n",
       "      <th>Int 4</th>\n",
       "    </tr>\n",
       "  </thead>\n",
       "  <tbody>\n",
       "    <tr>\n",
       "      <th>824</th>\n",
       "      <td>155.0</td>\n",
       "      <td>2225.0</td>\n",
       "      <td>221.0</td>\n",
       "      <td>278.0</td>\n",
       "      <td>311.0</td>\n",
       "      <td>370.0</td>\n",
       "      <td>442.0</td>\n",
       "      <td>467.0</td>\n",
       "      <td>556.0</td>\n",
       "      <td>835.0</td>\n",
       "      <td>1.257919</td>\n",
       "      <td>1.118705</td>\n",
       "      <td>1.189711</td>\n",
       "      <td>1.194595</td>\n",
       "    </tr>\n",
       "    <tr>\n",
       "      <th>262</th>\n",
       "      <td>124.0</td>\n",
       "      <td>1980.0</td>\n",
       "      <td>124.0</td>\n",
       "      <td>248.0</td>\n",
       "      <td>311.0</td>\n",
       "      <td>392.0</td>\n",
       "      <td>467.0</td>\n",
       "      <td>495.0</td>\n",
       "      <td>588.0</td>\n",
       "      <td>742.0</td>\n",
       "      <td>2.000000</td>\n",
       "      <td>1.254032</td>\n",
       "      <td>1.260450</td>\n",
       "      <td>1.191327</td>\n",
       "    </tr>\n",
       "    <tr>\n",
       "      <th>624</th>\n",
       "      <td>117.0</td>\n",
       "      <td>2309.0</td>\n",
       "      <td>117.0</td>\n",
       "      <td>234.0</td>\n",
       "      <td>278.0</td>\n",
       "      <td>350.0</td>\n",
       "      <td>556.0</td>\n",
       "      <td>625.0</td>\n",
       "      <td>659.0</td>\n",
       "      <td>835.0</td>\n",
       "      <td>2.000000</td>\n",
       "      <td>1.188034</td>\n",
       "      <td>1.258993</td>\n",
       "      <td>1.588571</td>\n",
       "    </tr>\n",
       "    <tr>\n",
       "      <th>122</th>\n",
       "      <td>99.0</td>\n",
       "      <td>1980.0</td>\n",
       "      <td>99.0</td>\n",
       "      <td>175.0</td>\n",
       "      <td>197.0</td>\n",
       "      <td>247.0</td>\n",
       "      <td>312.0</td>\n",
       "      <td>350.0</td>\n",
       "      <td>495.0</td>\n",
       "      <td>742.0</td>\n",
       "      <td>1.767677</td>\n",
       "      <td>1.125714</td>\n",
       "      <td>1.253807</td>\n",
       "      <td>1.263158</td>\n",
       "    </tr>\n",
       "    <tr>\n",
       "      <th>561</th>\n",
       "      <td>98.0</td>\n",
       "      <td>994.0</td>\n",
       "      <td>165.0</td>\n",
       "      <td>196.0</td>\n",
       "      <td>233.0</td>\n",
       "      <td>278.0</td>\n",
       "      <td>331.0</td>\n",
       "      <td>496.0</td>\n",
       "      <td>556.0</td>\n",
       "      <td>662.0</td>\n",
       "      <td>1.187879</td>\n",
       "      <td>1.188776</td>\n",
       "      <td>1.193133</td>\n",
       "      <td>1.190647</td>\n",
       "    </tr>\n",
       "  </tbody>\n",
       "</table>\n",
       "</div>"
      ],
      "text/plain": [
       "       Min     Max  Harmonic number 1  Harmonic number 2  Harmonic number 3  \\\n",
       "824  155.0  2225.0              221.0              278.0              311.0   \n",
       "262  124.0  1980.0              124.0              248.0              311.0   \n",
       "624  117.0  2309.0              117.0              234.0              278.0   \n",
       "122   99.0  1980.0               99.0              175.0              197.0   \n",
       "561   98.0   994.0              165.0              196.0              233.0   \n",
       "\n",
       "     Harmonic number 4  Harmonic number 5  Harmonic number 6  \\\n",
       "824              370.0              442.0              467.0   \n",
       "262              392.0              467.0              495.0   \n",
       "624              350.0              556.0              625.0   \n",
       "122              247.0              312.0              350.0   \n",
       "561              278.0              331.0              496.0   \n",
       "\n",
       "     Harmonic number 7  Harmonic number 8     Int 1     Int 2     Int 3  \\\n",
       "824              556.0              835.0  1.257919  1.118705  1.189711   \n",
       "262              588.0              742.0  2.000000  1.254032  1.260450   \n",
       "624              659.0              835.0  2.000000  1.188034  1.258993   \n",
       "122              495.0              742.0  1.767677  1.125714  1.253807   \n",
       "561              556.0              662.0  1.187879  1.188776  1.193133   \n",
       "\n",
       "        Int 4  \n",
       "824  1.194595  \n",
       "262  1.191327  \n",
       "624  1.588571  \n",
       "122  1.263158  \n",
       "561  1.190647  "
      ]
     },
     "execution_count": 6,
     "metadata": {},
     "output_type": "execute_result"
    }
   ],
   "source": [
    "train_X, val_X, train_y, val_y = train_test_split(df[columns2], df[\"Output\"], test_size=0.20, random_state=0)\n",
    "train_X.head()"
   ]
  },
  {
   "cell_type": "code",
   "execution_count": 8,
   "id": "f8b3c5f1-d33a-44d6-9dc1-c452842bf778",
   "metadata": {},
   "outputs": [
    {
     "name": "stdout",
     "output_type": "stream",
     "text": [
      "Accuracy: 0.872093023255814\n",
      "Model information: XGBClassifier(base_score=None, booster=None, callbacks=None,\n",
      "              colsample_bylevel=None, colsample_bynode=None,\n",
      "              colsample_bytree=None, early_stopping_rounds=None,\n",
      "              enable_categorical=False, eval_metric=None, feature_types=None,\n",
      "              gamma=None, gpu_id=None, grow_policy=None, importance_type=None,\n",
      "              interaction_constraints=None, learning_rate=None, max_bin=None,\n",
      "              max_cat_threshold=None, max_cat_to_onehot=None,\n",
      "              max_delta_step=None, max_depth=None, max_leaves=None,\n",
      "              min_child_weight=None, missing=nan, monotone_constraints=None,\n",
      "              n_estimators=100, n_jobs=None, num_parallel_tree=None,\n",
      "              predictor=None, random_state=None, ...)\n"
     ]
    }
   ],
   "source": [
    "from xgboost import XGBClassifier\n",
    "from sklearn.model_selection import train_test_split\n",
    "from sklearn.metrics import accuracy_score\n",
    "\n",
    "X_train, X_test, y_train, y_test = train_test_split(dftr, dftry, test_size=0.1, random_state=42)\n",
    "\n",
    "xgb = XGBClassifier()\n",
    "\n",
    "xgb.fit(X_train, y_train)\n",
    "\n",
    "y_pred = xgb.predict(X_test)\n",
    "\n",
    "accuracy = accuracy_score(y_test, y_pred)\n",
    "\n",
    "print(\"Accuracy:\", accuracy)\n",
    "print(\"Model information:\", xgb)"
   ]
  },
  {
   "cell_type": "code",
   "execution_count": 10,
   "id": "29913318-7b3e-4608-be00-dcf3df4537b2",
   "metadata": {},
   "outputs": [
    {
     "data": {
      "text/plain": [
       "<AxesSubplot: >"
      ]
     },
     "execution_count": 10,
     "metadata": {},
     "output_type": "execute_result"
    },
    {
     "data": {
      "image/png": "[encoded data removed]",
      "text/plain": [
       "<Figure size 640x480 with 2 Axes>"
      ]
     },
     "metadata": {},
     "output_type": "display_data"
    }
   ],
   "source": [
    "from sklearn.metrics import confusion_matrix\n",
    "import seaborn as sns\n",
    "\n",
    "# Generate predictions\n",
    "y_pred = xgb.predict(X_test)\n",
    "\n",
    "# Create confusion matrix\n",
    "cm = confusion_matrix(y_test, y_pred)\n",
    "\n",
    "# Plot confusion matrix as heatmap\n",
    "sns.heatmap(cm,  annot=True, fmt='d', cmap='Blues',xticklabels=['Major','Minor'], yticklabels=['Major','Minor'])"
   ]
  },
  {
   "cell_type": "code",
   "execution_count": null,
   "id": "f4980509-34e3-4976-954b-7b4a06b59a3e",
   "metadata": {},
   "outputs": [],
   "source": []
  }
 ],
 "metadata": {
  "kernelspec": {
   "display_name": "Python 3 (ipykernel)",
   "language": "python",
   "name": "python3"
  },
  "language_info": {
   "codemirror_mode": {
    "name": "ipython",
    "version": 3
   },
   "file_extension": ".py",
   "mimetype": "text/x-python",
   "name": "python",
   "nbconvert_exporter": "python",
   "pygments_lexer": "ipython3",
   "version": "3.10.8"
  }
 },
 "nbformat": 4,
 "nbformat_minor": 5
}
