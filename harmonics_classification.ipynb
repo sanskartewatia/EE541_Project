{
 "cells": [
  {
   "cell_type": "code",
   "execution_count": 15,
   "id": "edd5dded-2282-4547-8a13-90159aeebd60",
   "metadata": {},
   "outputs": [],
   "source": [
    "import os\n",
    "import librosa\n",
    "import numpy as np\n",
    "from sklearn.metrics import classification_report, confusion_matrix\n",
    "from sklearn.model_selection import train_test_split\n",
    "import matplotlib.pyplot as plt\n",
    "from scipy.fft import fft, fftfreq\n",
    "from scipy.signal import spectrogram, find_peaks\n",
    "from scipy.io import wavfile\n",
    "import pandas as pd\n",
    "import torch.nn as nn\n",
    "import torch\n",
    "import copy\n",
    "import numpy as np\n",
    "import torch.optim as optim\n",
    "import tqdm"
   ]
  },
  {
   "cell_type": "code",
   "execution_count": 16,
   "id": "23296500-2813-447e-9825-e0d542456839",
   "metadata": {},
   "outputs": [],
   "source": [
    "class Deep(nn.Module):\n",
    "    def __init__(self):\n",
    "        super().__init__()\n",
    "        self.layer1 = nn.Linear(14, 128)\n",
    "        self.act1 = nn.ReLU()\n",
    "        self.layer2 = nn.Linear(128, 32)\n",
    "        self.act2 = nn.ReLU()\n",
    "        self.output = nn.Linear(32, 1)\n",
    "        self.sigmoid = nn.Sigmoid()\n",
    "        self.dropout = nn.Dropout(0.2)\n",
    "        \n",
    "\n",
    "    def forward(self, x):\n",
    "        x = self.act1(self.layer1(x))\n",
    "        x = self.act2(self.layer2(x))\n",
    "        x = self.dropout(x)\n",
    "        x = self.sigmoid(self.output(x))\n",
    "        return x"
   ]
  },
  {
   "cell_type": "code",
   "execution_count": 17,
   "id": "dbd969b8-58fb-4ca1-9911-c47b8e6eabbb",
   "metadata": {},
   "outputs": [],
   "source": [
    "df=pd.read_csv('dataframe.csv')"
   ]
  },
  {
   "cell_type": "code",
   "execution_count": 18,
   "id": "7295c8bc-92cd-4e1a-8f6f-1387b825a096",
   "metadata": {},
   "outputs": [],
   "source": [
    "columns2 = ['Min','Max','Harmonic number 1',\n",
    "       'Harmonic number 2', 'Harmonic number 3', 'Harmonic number 4',\n",
    "       'Harmonic number 5', 'Harmonic number 6', 'Harmonic number 7',\n",
    "       'Harmonic number 8','Int 1','Int 2','Int 3','Int 4']\n",
    "dftr=df[columns2].to_numpy()\n",
    "dftry=df[\"Output\"].to_numpy()"
   ]
  },
  {
   "cell_type": "code",
   "execution_count": 19,
   "id": "c666be10-5b86-46cf-b645-5ec3228c8cfa",
   "metadata": {},
   "outputs": [],
   "source": [
    "def model_train(model, X_train, y_train, X_val, y_val):\n",
    "    # loss function and optimizer\n",
    "    loss_fn = nn.BCELoss()  # binary cross entropy\n",
    "    optimizer = optim.Adam(model.parameters(), lr=0.0001)\n",
    "\n",
    "    n_epochs = 200   # number of epochs to run\n",
    "    batch_size = 5  # size of each batch\n",
    "    batch_start = torch.arange(0, len(X_train), batch_size)\n",
    "\n",
    "    # Hold the best model\n",
    "    best_acc = - np.inf   # init to negative infinity\n",
    "    best_weights = None\n",
    "\n",
    "    for epoch in range(n_epochs):\n",
    "        model.train()\n",
    "        with tqdm.tqdm(batch_start, unit=\"batch\", mininterval=0, disable=True) as bar:\n",
    "            bar.set_description(f\"Epoch {epoch}\")\n",
    "            for start in bar:\n",
    "                # take a batch\n",
    "                X_batch = X_train[start:start+batch_size]\n",
    "                y_batch = y_train[start:start+batch_size]\n",
    "                # forward pass\n",
    "                y_pred = model(X_batch)\n",
    "                loss = loss_fn(y_pred, y_batch)\n",
    "                # backward pass\n",
    "                optimizer.zero_grad()\n",
    "                loss.backward()\n",
    "                # update weights\n",
    "                optimizer.step()\n",
    "                # print progress\n",
    "                acc = (y_pred.round() == y_batch).float().mean()\n",
    "                bar.set_postfix(\n",
    "                    loss=float(loss),\n",
    "                    acc=float(acc)\n",
    "                )\n",
    "        # evaluate accuracy at end of each epoch\n",
    "        model.eval()\n",
    "        y_pred = model(X_val)\n",
    "        acc = (y_pred.round() == y_val).float().mean()\n",
    "        acc = float(acc)\n",
    "        if acc > best_acc:\n",
    "            best_acc = acc\n",
    "            best_weights = copy.deepcopy(model.state_dict())\n",
    "    # restore model and return best accuracy\n",
    "    model.load_state_dict(best_weights)\n",
    "    return best_acc"
   ]
  },
  {
   "cell_type": "code",
   "execution_count": 20,
   "id": "706112c4-7b80-4bbc-a8d1-dc559a05633f",
   "metadata": {},
   "outputs": [],
   "source": [
    "xdf = torch.tensor(dftr, dtype=torch.float32)\n",
    "ydf = torch.tensor(dftry, dtype=torch.float32).reshape(-1, 1)"
   ]
  },
  {
   "cell_type": "code",
   "execution_count": 30,
   "id": "ed439e40-e647-4558-9898-488956375e13",
   "metadata": {},
   "outputs": [],
   "source": [
    "from sklearn.model_selection import StratifiedKFold, train_test_split\n",
    "X_train, X_test, y_train, y_test = train_test_split(xdf, ydf, train_size=0.85, shuffle=True)"
   ]
  },
  {
   "cell_type": "code",
   "execution_count": 27,
   "id": "395b677f-8cad-4760-a7c8-4fd2d16067fc",
   "metadata": {},
   "outputs": [],
   "source": [
    "# define 5-fold cross validation test harness\n",
    "kfold = StratifiedKFold(n_splits=2, shuffle=True)\n",
    "cv_scores_wide = []\n",
    "for train, test in kfold.split(X_train, y_train):\n",
    "    # create model, train, and get accuracy\n",
    "    model = Deep()\n",
    "    acc = model_train(model, X_train[train], y_train[train], X_train[test], y_train[test])\n",
    "    #print(\"Accuracy (wide): %.2f\" % acc)\n",
    "    cv_scores_wide.append(acc)"
   ]
  },
  {
   "cell_type": "code",
   "execution_count": 31,
   "id": "5ac6b81f-0c91-448c-8ca7-55da0bcd2c99",
   "metadata": {},
   "outputs": [
    {
     "name": "stdout",
     "output_type": "stream",
     "text": [
      "Accuracy: 63.01% (+/- 1.10%)\n"
     ]
    }
   ],
   "source": [
    "print(\"Accuracy: %.2f%% (+/- %.2f%%)\" % (np.mean(cv_scores_wide)*100, np.std(cv_scores_wide)*100))"
   ]
  },
  {
   "cell_type": "code",
   "execution_count": null,
   "id": "427e08e5-a5df-4cc1-8566-c5beb17f817f",
   "metadata": {},
   "outputs": [],
   "source": []
  }
 ],
 "metadata": {
  "kernelspec": {
   "display_name": "Python 3 (ipykernel)",
   "language": "python",
   "name": "python3"
  },
  "language_info": {
   "codemirror_mode": {
    "name": "ipython",
    "version": 3
   },
   "file_extension": ".py",
   "mimetype": "text/x-python",
   "name": "python",
   "nbconvert_exporter": "python",
   "pygments_lexer": "ipython3",
   "version": "3.10.8"
  }
 },
 "nbformat": 4,
 "nbformat_minor": 5
}
